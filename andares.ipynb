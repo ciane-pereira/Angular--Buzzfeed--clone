{
  "nbformat": 4,
  "nbformat_minor": 0,
  "metadata": {
    "colab": {
      "provenance": [],
      "authorship_tag": "ABX9TyOTa69Bl9oqm5k5dbVA+ocR",
      "include_colab_link": true
    },
    "kernelspec": {
      "name": "python3",
      "display_name": "Python 3"
    },
    "language_info": {
      "name": "python"
    }
  },
  "cells": [
    {
      "cell_type": "markdown",
      "metadata": {
        "id": "view-in-github",
        "colab_type": "text"
      },
      "source": [
        "<a href=\"https://colab.research.google.com/github/ciane-pereira/Angular--Buzzfeed--clone/blob/main/andares.ipynb\" target=\"_parent\"><img src=\"https://colab.research.google.com/assets/colab-badge.svg\" alt=\"Open In Colab\"/></a>"
      ]
    },
    {
      "cell_type": "markdown",
      "source": [
        "# Estruturas de repetições\n",
        "Precisamos imprimir um número para cada andar de um hotel de 20 andares. Porém, o dono do hotel é supersticioso e optou por não ter um 13ro andar.\n",
        "\n",
        "Escreva um código que imprima todos os números exceto o número 13.\n",
        "Escreva mais um código que resolva o mesmo problema, mas dessa vez usando o laço de repetição 'while'.\n",
        "\n",
        "Como desafio, imprima eles em ordem decrescente (20, 19, 18...)\n"
      ],
      "metadata": {
        "id": "lu7Hukk0nvYG"
      }
    },
    {
      "cell_type": "markdown",
      "source": [
        ""
      ],
      "metadata": {
        "id": "CsCJ61bwxdSA"
      }
    },
    {
      "cell_type": "code",
      "source": [
        "andar = 21\n",
        "print(\"Usando for na execução da atividade: \\n\")\n",
        "for i in range(1,andar):\n",
        "  andar = andar + 1\n",
        "  if(i == 13):\n",
        "    continue\n",
        "    if(andar == 21):\n",
        "      break\n",
        "  print(\"andar \" + str(i) + \" º\")\n",
        "\n",
        "print(\"\\nUsando while na execução da atividade: \\n\")\n",
        "andar = 20\n",
        "while andar > 0:\n",
        "    if(andar != 13):\n",
        "        print(\"andar \",andar,\"º\" )\n",
        "    andar = andar - 1\n",
        ""
      ],
      "metadata": {
        "colab": {
          "base_uri": "https://localhost:8080/"
        },
        "id": "RxDGXGn3v8zS",
        "outputId": "1a044bf9-d04c-4583-8488-9a04dbe4d3db"
      },
      "execution_count": 63,
      "outputs": [
        {
          "output_type": "stream",
          "name": "stdout",
          "text": [
            "Usando for na execução da atividade: \n",
            "\n",
            "andar 1 º\n",
            "andar 2 º\n",
            "andar 3 º\n",
            "andar 4 º\n",
            "andar 5 º\n",
            "andar 6 º\n",
            "andar 7 º\n",
            "andar 8 º\n",
            "andar 9 º\n",
            "andar 10 º\n",
            "andar 11 º\n",
            "andar 12 º\n",
            "andar 14 º\n",
            "andar 15 º\n",
            "andar 16 º\n",
            "andar 17 º\n",
            "andar 18 º\n",
            "andar 19 º\n",
            "andar 20 º\n",
            "\n",
            "Usando while na execução da atividade: \n",
            "\n",
            "andar  20 º\n",
            "andar  19 º\n",
            "andar  18 º\n",
            "andar  17 º\n",
            "andar  16 º\n",
            "andar  15 º\n",
            "andar  14 º\n",
            "andar  12 º\n",
            "andar  11 º\n",
            "andar  10 º\n",
            "andar  9 º\n",
            "andar  8 º\n",
            "andar  7 º\n",
            "andar  6 º\n",
            "andar  5 º\n",
            "andar  4 º\n",
            "andar  3 º\n",
            "andar  2 º\n",
            "andar  1 º\n"
          ]
        }
      ]
    }
  ]
}